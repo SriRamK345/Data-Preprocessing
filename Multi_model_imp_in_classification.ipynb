{
  "nbformat": 4,
  "nbformat_minor": 0,
  "metadata": {
    "colab": {
      "private_outputs": true,
      "provenance": [],
      "authorship_tag": "ABX9TyPldjo7hXRyzbnclX5XDS+/",
      "include_colab_link": true
    },
    "kernelspec": {
      "name": "python3",
      "display_name": "Python 3"
    },
    "language_info": {
      "name": "python"
    }
  },
  "cells": [
    {
      "cell_type": "markdown",
      "metadata": {
        "id": "view-in-github",
        "colab_type": "text"
      },
      "source": [
        "<a href=\"https://colab.research.google.com/github/SriRamK345/Data-Preprocessing/blob/main/Multi_model_imp_in_classification.ipynb\" target=\"_parent\"><img src=\"https://colab.research.google.com/assets/colab-badge.svg\" alt=\"Open In Colab\"/></a>"
      ]
    },
    {
      "cell_type": "code",
      "execution_count": null,
      "metadata": {
        "id": "IVp46ybZGrBZ"
      },
      "outputs": [],
      "source": [
        "from sklearn.model_selection import train_test_split\n",
        "from sklearn.preprocessing import StandardScaler\n",
        "from sklearn.linear_model import LogisticRegression\n",
        "from sklearn.tree import DecisionTreeClassifier\n",
        "from sklearn.ensemble import RandomForestClassifier\n",
        "from sklearn.metrics import confusion_matrix, accuracy_score, precision_score, recall_score, f1_score, roc_auc_score\n",
        "import pandas as pd"
      ]
    },
    {
      "cell_type": "code",
      "source": [
        "X_train, X_test, y_train, y_test = train_test_split(X, y, test_size=0.2, random_state=42)"
      ],
      "metadata": {
        "id": "uCEfX14EJESe"
      },
      "execution_count": null,
      "outputs": []
    },
    {
      "cell_type": "code",
      "source": [
        "models={\n",
        "         \"Logisitic Regression\" : LogisticRegression(),\n",
        "         \"Decision Tree\" : DecisionTreeClassifier(),\n",
        "         \"Random Forest\" : RandomForestClassifier()}\n",
        "for i in range(len(list(models))):\n",
        "  model = list(models.values())[i]\n",
        "  model.fit(X_train, y_train) # Train model\n",
        "# Make predictions\n",
        "y_train_pred = model.predict(X_train)\n",
        "y_test_pred = model.predict(X_test)\n",
        "\n",
        "# Training set performance\n",
        "model_train_accuracy = accuracy_score (y_train, y_train_pred)\n",
        "model_train_f1 = f1_score(y_train, y_train_pred, average='weighted')\n",
        "model_train_precision = precision_score(y_train, y_train_pred)\n",
        "model_train_recall = recall_score (y_train, y_train_pred)\n",
        "model_train_rocauc_score = roc_auc_score (y_train, y_train_pred)\n",
        "\n",
        "# Test set performance\n",
        "model_test_accuracy= accuracy_score(y_test, y_test_pred) # Calcul model_test_f1 = f1_score (y_test, y_test_pred, average='weighted') model_test_precision = precision_score(y_test, y_test_pred) # Calc model_test_recall = recall_score (y_test, y_test_pred) # Calculate model_test_rocauc_score = roc_auc_score (y_test, y_test_pred) #Calc\n",
        "print(list(models.keys())[i])\n",
        "\n",
        "print('Model performance for Training set')\n",
        "print(\"- Accuracy: {:.4f}\".format(model_train_accuracy))\n",
        "print('- F1 score: {:.4f}'.format(model_train_f1))\n",
        "print('- Precision: {:.4f}'.format(model_train_precision))\n",
        "print('- Recall: {:.4f}'.format(model_train_recall))\n",
        "print('- Roc Auc Score: {:.4f}'.format(model_train_rocauc_score))\n",
        "\n",
        "print('----------------------------')\n",
        "\n",
        "print('Model performance for Test set')\n",
        "print('- Accuracy: {:.4f}'.format(model_test_accuracy))\n",
        "print('- F1 score: {:.4f}'.format(model_test_f1))\n",
        "print('- Precision: {:.4f}'.format(model_test_precision))\n",
        "print('- Recall: {:.4f}'.format(model_test_recall))\n",
        "print('- Roc Auc Score: {:.4f}'.format(model_test_rocauc_score))\n",
        "\n",
        "print('='*35)\n",
        "print('\\n')"
      ],
      "metadata": {
        "id": "k_smtmLrHDjr"
      },
      "execution_count": null,
      "outputs": []
    }
  ]
}